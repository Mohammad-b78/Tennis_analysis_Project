{
 "cells": [
  {
   "cell_type": "markdown",
   "id": "a9e8a24f",
   "metadata": {},
   "source": [
    "## Tennis Project\n",
    "### Question 6"
   ]
  },
  {
   "cell_type": "code",
   "execution_count": 1,
   "id": "bb92876f",
   "metadata": {},
   "outputs": [],
   "source": [
    "import pandas as pd\n",
    "from pathlib import Path"
   ]
  },
  {
   "cell_type": "code",
   "execution_count": 2,
   "id": "a87d508f",
   "metadata": {},
   "outputs": [],
   "source": [
    "root_path = Path(\"../data\")"
   ]
  },
  {
   "cell_type": "code",
   "execution_count": 3,
   "id": "eaf0165b",
   "metadata": {},
   "outputs": [],
   "source": [
    "home_files = list(root_path.rglob(\"home_team_*.parquet\"))\n",
    "away_files = list(root_path.rglob(\"away_team_*.parquet\"))"
   ]
  },
  {
   "cell_type": "code",
   "execution_count": 4,
   "id": "0b0052ba",
   "metadata": {},
   "outputs": [
    {
     "name": "stderr",
     "output_type": "stream",
     "text": [
      "C:\\Users\\mbahr\\AppData\\Local\\Temp\\ipykernel_12524\\1909300601.py:7: FutureWarning: The behavior of DataFrame concatenation with empty or all-NA entries is deprecated. In a future version, this will no longer exclude empty or all-NA columns when determining the result dtypes. To retain the old behavior, exclude the relevant entries before the concat operation.\n",
      "  df_all = pd.concat(dfs, ignore_index=True)\n"
     ]
    },
    {
     "data": {
      "text/html": [
       "<div>\n",
       "<style scoped>\n",
       "    .dataframe tbody tr th:only-of-type {\n",
       "        vertical-align: middle;\n",
       "    }\n",
       "\n",
       "    .dataframe tbody tr th {\n",
       "        vertical-align: top;\n",
       "    }\n",
       "\n",
       "    .dataframe thead th {\n",
       "        text-align: right;\n",
       "    }\n",
       "</style>\n",
       "<table border=\"1\" class=\"dataframe\">\n",
       "  <thead>\n",
       "    <tr style=\"text-align: right;\">\n",
       "      <th></th>\n",
       "      <th>match_id</th>\n",
       "      <th>name</th>\n",
       "      <th>slug</th>\n",
       "      <th>gender</th>\n",
       "      <th>user_count</th>\n",
       "      <th>residence</th>\n",
       "      <th>birthplace</th>\n",
       "      <th>height</th>\n",
       "      <th>weight</th>\n",
       "      <th>plays</th>\n",
       "      <th>turned_pro</th>\n",
       "      <th>current_prize</th>\n",
       "      <th>total_prize</th>\n",
       "      <th>player_id</th>\n",
       "      <th>current_rank</th>\n",
       "      <th>name_code</th>\n",
       "      <th>country</th>\n",
       "      <th>full_name</th>\n",
       "    </tr>\n",
       "  </thead>\n",
       "  <tbody>\n",
       "    <tr>\n",
       "      <th>0</th>\n",
       "      <td>12156295</td>\n",
       "      <td>Collins D.</td>\n",
       "      <td>collins-danielle</td>\n",
       "      <td>F</td>\n",
       "      <td>6864</td>\n",
       "      <td>St. Petersburg, FL, USA</td>\n",
       "      <td>St. Petersburg, FL, USA</td>\n",
       "      <td>1.78</td>\n",
       "      <td>None</td>\n",
       "      <td>right-handed</td>\n",
       "      <td>2014</td>\n",
       "      <td>1158669</td>\n",
       "      <td>6743563</td>\n",
       "      <td>58515</td>\n",
       "      <td>15</td>\n",
       "      <td>COL</td>\n",
       "      <td>USA</td>\n",
       "      <td>Collins, Danielle</td>\n",
       "    </tr>\n",
       "    <tr>\n",
       "      <th>1</th>\n",
       "      <td>12157171</td>\n",
       "      <td>Dimitrov G.</td>\n",
       "      <td>dimitrov-grigor</td>\n",
       "      <td>M</td>\n",
       "      <td>28927</td>\n",
       "      <td>Monte Carlo, Monaco</td>\n",
       "      <td>Haskovo, Bulgaria</td>\n",
       "      <td>1.91</td>\n",
       "      <td>81</td>\n",
       "      <td>right-handed</td>\n",
       "      <td>2008</td>\n",
       "      <td>952941</td>\n",
       "      <td>21900208</td>\n",
       "      <td>23581</td>\n",
       "      <td>9</td>\n",
       "      <td>DIM</td>\n",
       "      <td>Bulgaria</td>\n",
       "      <td>Dimitrov, Grigor</td>\n",
       "    </tr>\n",
       "    <tr>\n",
       "      <th>2</th>\n",
       "      <td>12173700</td>\n",
       "      <td>Albot R.</td>\n",
       "      <td>albot-radu</td>\n",
       "      <td>M</td>\n",
       "      <td>2309</td>\n",
       "      <td>Chisinau, Moldova</td>\n",
       "      <td>Chisinau, Moldova</td>\n",
       "      <td>1.75</td>\n",
       "      <td>69</td>\n",
       "      <td>right-handed</td>\n",
       "      <td>2008</td>\n",
       "      <td>52648</td>\n",
       "      <td>4240082</td>\n",
       "      <td>44547</td>\n",
       "      <td>132</td>\n",
       "      <td>ALB</td>\n",
       "      <td>Moldova</td>\n",
       "      <td>Albot, Radu</td>\n",
       "    </tr>\n",
       "    <tr>\n",
       "      <th>3</th>\n",
       "      <td>12173714</td>\n",
       "      <td>Hassan B.</td>\n",
       "      <td>hassan-benjamin</td>\n",
       "      <td>M</td>\n",
       "      <td>1320</td>\n",
       "      <td>Germany</td>\n",
       "      <td>Merzig, Germany</td>\n",
       "      <td>1.83</td>\n",
       "      <td>85</td>\n",
       "      <td>right-handed</td>\n",
       "      <td>None</td>\n",
       "      <td>57103</td>\n",
       "      <td>210248</td>\n",
       "      <td>108767</td>\n",
       "      <td>158</td>\n",
       "      <td>HAS</td>\n",
       "      <td>Germany</td>\n",
       "      <td>Hassan, Benjamin</td>\n",
       "    </tr>\n",
       "    <tr>\n",
       "      <th>4</th>\n",
       "      <td>12173950</td>\n",
       "      <td>Passaro F.</td>\n",
       "      <td>passaro-francesco</td>\n",
       "      <td>M</td>\n",
       "      <td>2835</td>\n",
       "      <td>None</td>\n",
       "      <td>Perugia, Italy</td>\n",
       "      <td>1.80</td>\n",
       "      <td>None</td>\n",
       "      <td>right-handed</td>\n",
       "      <td>None</td>\n",
       "      <td>42063</td>\n",
       "      <td>483728</td>\n",
       "      <td>258908</td>\n",
       "      <td>200</td>\n",
       "      <td>PAS</td>\n",
       "      <td>Italy</td>\n",
       "      <td>Passaro, Francesco</td>\n",
       "    </tr>\n",
       "  </tbody>\n",
       "</table>\n",
       "</div>"
      ],
      "text/plain": [
       "   match_id         name               slug gender  user_count  \\\n",
       "0  12156295   Collins D.   collins-danielle      F        6864   \n",
       "1  12157171  Dimitrov G.    dimitrov-grigor      M       28927   \n",
       "2  12173700     Albot R.         albot-radu      M        2309   \n",
       "3  12173714    Hassan B.    hassan-benjamin      M        1320   \n",
       "4  12173950   Passaro F.  passaro-francesco      M        2835   \n",
       "\n",
       "                 residence               birthplace  height weight  \\\n",
       "0  St. Petersburg, FL, USA  St. Petersburg, FL, USA    1.78   None   \n",
       "1      Monte Carlo, Monaco        Haskovo, Bulgaria    1.91     81   \n",
       "2        Chisinau, Moldova        Chisinau, Moldova    1.75     69   \n",
       "3                  Germany          Merzig, Germany    1.83     85   \n",
       "4                     None           Perugia, Italy    1.80   None   \n",
       "\n",
       "          plays turned_pro current_prize total_prize  player_id current_rank  \\\n",
       "0  right-handed       2014       1158669     6743563      58515           15   \n",
       "1  right-handed       2008        952941    21900208      23581            9   \n",
       "2  right-handed       2008         52648     4240082      44547          132   \n",
       "3  right-handed       None         57103      210248     108767          158   \n",
       "4  right-handed       None         42063      483728     258908          200   \n",
       "\n",
       "  name_code   country           full_name  \n",
       "0       COL       USA   Collins, Danielle  \n",
       "1       DIM  Bulgaria    Dimitrov, Grigor  \n",
       "2       ALB   Moldova         Albot, Radu  \n",
       "3       HAS   Germany    Hassan, Benjamin  \n",
       "4       PAS     Italy  Passaro, Francesco  "
      ]
     },
     "execution_count": 4,
     "metadata": {},
     "output_type": "execute_result"
    }
   ],
   "source": [
    "dfs = []\n",
    "\n",
    "for file in (home_files + away_files)[:200]:\n",
    "    df = pd.read_parquet(file)\n",
    "    dfs.append(df)\n",
    "\n",
    "df_all = pd.concat(dfs, ignore_index=True)\n",
    "df_all.head()"
   ]
  },
  {
   "cell_type": "code",
   "execution_count": 5,
   "id": "ada7480d",
   "metadata": {},
   "outputs": [
    {
     "data": {
      "text/plain": [
       "Index(['match_id', 'name', 'slug', 'gender', 'user_count', 'residence',\n",
       "       'birthplace', 'height', 'weight', 'plays', 'turned_pro',\n",
       "       'current_prize', 'total_prize', 'player_id', 'current_rank',\n",
       "       'name_code', 'country', 'full_name'],\n",
       "      dtype='object')"
      ]
     },
     "execution_count": 5,
     "metadata": {},
     "output_type": "execute_result"
    }
   ],
   "source": [
    "df_all.columns"
   ]
  },
  {
   "cell_type": "code",
   "execution_count": 6,
   "id": "971cf512",
   "metadata": {},
   "outputs": [
    {
     "data": {
      "text/plain": [
       "country\n",
       "France            21\n",
       "USA               17\n",
       "Germany           17\n",
       "Russia            14\n",
       "Japan             14\n",
       "Italy             12\n",
       "Spain             10\n",
       "United Kingdom     7\n",
       "Australia          6\n",
       "Argentina          6\n",
       "Name: count, dtype: int64"
      ]
     },
     "execution_count": 6,
     "metadata": {},
     "output_type": "execute_result"
    }
   ],
   "source": [
    "country_counts = df_all[\"country\"].value_counts()\n",
    "country_counts.head(10)"
   ]
  },
  {
   "cell_type": "code",
   "execution_count": 7,
   "id": "42a232ed",
   "metadata": {},
   "outputs": [
    {
     "name": "stdout",
     "output_type": "stream",
     "text": [
      "The country with the most successful players is 'France' with 21 players.\n"
     ]
    }
   ],
   "source": [
    "top_country = country_counts.index[0]\n",
    "top_players = country_counts.iloc[0]\n",
    "\n",
    "print(f\"The country with the most successful players is '{top_country}' with {top_players} players.\")"
   ]
  },
  {
   "cell_type": "markdown",
   "id": "d51db359",
   "metadata": {},
   "source": [
    "### Result:The country with the most successful players is 'France' with 21 players."
   ]
  }
 ],
 "metadata": {
  "kernelspec": {
   "display_name": ".venv",
   "language": "python",
   "name": "python3"
  },
  "language_info": {
   "codemirror_mode": {
    "name": "ipython",
    "version": 3
   },
   "file_extension": ".py",
   "mimetype": "text/x-python",
   "name": "python",
   "nbconvert_exporter": "python",
   "pygments_lexer": "ipython3",
   "version": "3.13.5"
  }
 },
 "nbformat": 4,
 "nbformat_minor": 5
}
