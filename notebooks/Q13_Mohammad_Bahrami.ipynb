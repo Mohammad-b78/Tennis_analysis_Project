{
 "cells": [
  {
   "cell_type": "markdown",
   "id": "61ce2b51",
   "metadata": {},
   "source": [
    "## Tennis Project\n",
    "### Question 13"
   ]
  },
  {
   "cell_type": "code",
   "execution_count": null,
   "id": "7c792620",
   "metadata": {},
   "outputs": [],
   "source": [
    "import pandas as pd\n",
    "from pathlib import Path\n",
    "import matplotlib.pyplot as plt"
   ]
  },
  {
   "cell_type": "code",
   "execution_count": 3,
   "id": "6816d016",
   "metadata": {},
   "outputs": [],
   "source": [
    "root_path = Path(\"../data\")"
   ]
  },
  {
   "cell_type": "code",
   "execution_count": 4,
   "id": "9ddd8b45",
   "metadata": {},
   "outputs": [],
   "source": [
    "home_files = list(root_path.rglob(\"home_team_*.parquet\"))\n",
    "away_files = list(root_path.rglob(\"away_team_*.parquet\"))"
   ]
  },
  {
   "cell_type": "code",
   "execution_count": 10,
   "id": "67adbff5",
   "metadata": {},
   "outputs": [
    {
     "data": {
      "text/html": [
       "<div>\n",
       "<style scoped>\n",
       "    .dataframe tbody tr th:only-of-type {\n",
       "        vertical-align: middle;\n",
       "    }\n",
       "\n",
       "    .dataframe tbody tr th {\n",
       "        vertical-align: top;\n",
       "    }\n",
       "\n",
       "    .dataframe thead th {\n",
       "        text-align: right;\n",
       "    }\n",
       "</style>\n",
       "<table border=\"1\" class=\"dataframe\">\n",
       "  <thead>\n",
       "    <tr style=\"text-align: right;\">\n",
       "      <th></th>\n",
       "      <th>match_id</th>\n",
       "      <th>name</th>\n",
       "      <th>slug</th>\n",
       "      <th>gender</th>\n",
       "      <th>user_count</th>\n",
       "      <th>residence</th>\n",
       "      <th>birthplace</th>\n",
       "      <th>height</th>\n",
       "      <th>weight</th>\n",
       "      <th>plays</th>\n",
       "      <th>...</th>\n",
       "      <th>period_2</th>\n",
       "      <th>period_3</th>\n",
       "      <th>period_4</th>\n",
       "      <th>period_5</th>\n",
       "      <th>period_1_tie_break</th>\n",
       "      <th>period_2_tie_break</th>\n",
       "      <th>period_3_tie_break</th>\n",
       "      <th>period_4_tie_break</th>\n",
       "      <th>period_5_tie_break</th>\n",
       "      <th>normal_time</th>\n",
       "    </tr>\n",
       "  </thead>\n",
       "  <tbody>\n",
       "    <tr>\n",
       "      <th>0</th>\n",
       "      <td>12156295</td>\n",
       "      <td>Collins D.</td>\n",
       "      <td>collins-danielle</td>\n",
       "      <td>F</td>\n",
       "      <td>6864.0</td>\n",
       "      <td>St. Petersburg, FL, USA</td>\n",
       "      <td>St. Petersburg, FL, USA</td>\n",
       "      <td>1.78</td>\n",
       "      <td>NaN</td>\n",
       "      <td>right-handed</td>\n",
       "      <td>...</td>\n",
       "      <td>NaN</td>\n",
       "      <td>NaN</td>\n",
       "      <td>NaN</td>\n",
       "      <td>NaN</td>\n",
       "      <td>NaN</td>\n",
       "      <td>NaN</td>\n",
       "      <td>NaN</td>\n",
       "      <td>NaN</td>\n",
       "      <td>NaN</td>\n",
       "      <td>NaN</td>\n",
       "    </tr>\n",
       "    <tr>\n",
       "      <th>1</th>\n",
       "      <td>12157171</td>\n",
       "      <td>Dimitrov G.</td>\n",
       "      <td>dimitrov-grigor</td>\n",
       "      <td>M</td>\n",
       "      <td>28927.0</td>\n",
       "      <td>Monte Carlo, Monaco</td>\n",
       "      <td>Haskovo, Bulgaria</td>\n",
       "      <td>1.91</td>\n",
       "      <td>81.0</td>\n",
       "      <td>right-handed</td>\n",
       "      <td>...</td>\n",
       "      <td>NaN</td>\n",
       "      <td>NaN</td>\n",
       "      <td>NaN</td>\n",
       "      <td>NaN</td>\n",
       "      <td>NaN</td>\n",
       "      <td>NaN</td>\n",
       "      <td>NaN</td>\n",
       "      <td>NaN</td>\n",
       "      <td>NaN</td>\n",
       "      <td>NaN</td>\n",
       "    </tr>\n",
       "    <tr>\n",
       "      <th>2</th>\n",
       "      <td>12173700</td>\n",
       "      <td>Albot R.</td>\n",
       "      <td>albot-radu</td>\n",
       "      <td>M</td>\n",
       "      <td>2309.0</td>\n",
       "      <td>Chisinau, Moldova</td>\n",
       "      <td>Chisinau, Moldova</td>\n",
       "      <td>1.75</td>\n",
       "      <td>69.0</td>\n",
       "      <td>right-handed</td>\n",
       "      <td>...</td>\n",
       "      <td>NaN</td>\n",
       "      <td>NaN</td>\n",
       "      <td>NaN</td>\n",
       "      <td>NaN</td>\n",
       "      <td>NaN</td>\n",
       "      <td>NaN</td>\n",
       "      <td>NaN</td>\n",
       "      <td>NaN</td>\n",
       "      <td>NaN</td>\n",
       "      <td>NaN</td>\n",
       "    </tr>\n",
       "    <tr>\n",
       "      <th>3</th>\n",
       "      <td>12173714</td>\n",
       "      <td>Hassan B.</td>\n",
       "      <td>hassan-benjamin</td>\n",
       "      <td>M</td>\n",
       "      <td>1320.0</td>\n",
       "      <td>Germany</td>\n",
       "      <td>Merzig, Germany</td>\n",
       "      <td>1.83</td>\n",
       "      <td>85.0</td>\n",
       "      <td>right-handed</td>\n",
       "      <td>...</td>\n",
       "      <td>NaN</td>\n",
       "      <td>NaN</td>\n",
       "      <td>NaN</td>\n",
       "      <td>NaN</td>\n",
       "      <td>NaN</td>\n",
       "      <td>NaN</td>\n",
       "      <td>NaN</td>\n",
       "      <td>NaN</td>\n",
       "      <td>NaN</td>\n",
       "      <td>NaN</td>\n",
       "    </tr>\n",
       "    <tr>\n",
       "      <th>4</th>\n",
       "      <td>12173950</td>\n",
       "      <td>Passaro F.</td>\n",
       "      <td>passaro-francesco</td>\n",
       "      <td>M</td>\n",
       "      <td>2835.0</td>\n",
       "      <td>NaN</td>\n",
       "      <td>Perugia, Italy</td>\n",
       "      <td>1.80</td>\n",
       "      <td>NaN</td>\n",
       "      <td>right-handed</td>\n",
       "      <td>...</td>\n",
       "      <td>NaN</td>\n",
       "      <td>NaN</td>\n",
       "      <td>NaN</td>\n",
       "      <td>NaN</td>\n",
       "      <td>NaN</td>\n",
       "      <td>NaN</td>\n",
       "      <td>NaN</td>\n",
       "      <td>NaN</td>\n",
       "      <td>NaN</td>\n",
       "      <td>NaN</td>\n",
       "    </tr>\n",
       "  </tbody>\n",
       "</table>\n",
       "<p>5 rows × 31 columns</p>\n",
       "</div>"
      ],
      "text/plain": [
       "   match_id         name               slug gender  user_count  \\\n",
       "0  12156295   Collins D.   collins-danielle      F      6864.0   \n",
       "1  12157171  Dimitrov G.    dimitrov-grigor      M     28927.0   \n",
       "2  12173700     Albot R.         albot-radu      M      2309.0   \n",
       "3  12173714    Hassan B.    hassan-benjamin      M      1320.0   \n",
       "4  12173950   Passaro F.  passaro-francesco      M      2835.0   \n",
       "\n",
       "                 residence               birthplace  height  weight  \\\n",
       "0  St. Petersburg, FL, USA  St. Petersburg, FL, USA    1.78     NaN   \n",
       "1      Monte Carlo, Monaco        Haskovo, Bulgaria    1.91    81.0   \n",
       "2        Chisinau, Moldova        Chisinau, Moldova    1.75    69.0   \n",
       "3                  Germany          Merzig, Germany    1.83    85.0   \n",
       "4                      NaN           Perugia, Italy    1.80     NaN   \n",
       "\n",
       "          plays  ... period_2  period_3  period_4  period_5  \\\n",
       "0  right-handed  ...      NaN       NaN       NaN       NaN   \n",
       "1  right-handed  ...      NaN       NaN       NaN       NaN   \n",
       "2  right-handed  ...      NaN       NaN       NaN       NaN   \n",
       "3  right-handed  ...      NaN       NaN       NaN       NaN   \n",
       "4  right-handed  ...      NaN       NaN       NaN       NaN   \n",
       "\n",
       "   period_1_tie_break period_2_tie_break period_3_tie_break  \\\n",
       "0                 NaN                NaN                NaN   \n",
       "1                 NaN                NaN                NaN   \n",
       "2                 NaN                NaN                NaN   \n",
       "3                 NaN                NaN                NaN   \n",
       "4                 NaN                NaN                NaN   \n",
       "\n",
       "  period_4_tie_break  period_5_tie_break  normal_time  \n",
       "0                NaN                 NaN          NaN  \n",
       "1                NaN                 NaN          NaN  \n",
       "2                NaN                 NaN          NaN  \n",
       "3                NaN                 NaN          NaN  \n",
       "4                NaN                 NaN          NaN  \n",
       "\n",
       "[5 rows x 31 columns]"
      ]
     },
     "execution_count": 10,
     "metadata": {},
     "output_type": "execute_result"
    }
   ],
   "source": [
    "dfs = []\n",
    "\n",
    "for file in (home_files + away_files)[:1000]:\n",
    "    df = pd.read_parquet(file, engine=\"fastparquet\")\n",
    "    dfs.append(df)\n",
    "\n",
    "df_all = pd.concat(dfs, ignore_index=True)\n",
    "df_all.head()"
   ]
  },
  {
   "cell_type": "code",
   "execution_count": 11,
   "id": "841e6419",
   "metadata": {},
   "outputs": [
    {
     "data": {
      "text/plain": [
       "Index(['match_id', 'name', 'slug', 'gender', 'user_count', 'residence',\n",
       "       'birthplace', 'height', 'weight', 'plays', 'turned_pro',\n",
       "       'current_prize', 'total_prize', 'player_id', 'current_rank',\n",
       "       'name_code', 'country', 'full_name', 'current_score', 'display_score',\n",
       "       'period_1', 'period_2', 'period_3', 'period_4', 'period_5',\n",
       "       'period_1_tie_break', 'period_2_tie_break', 'period_3_tie_break',\n",
       "       'period_4_tie_break', 'period_5_tie_break', 'normal_time'],\n",
       "      dtype='object')"
      ]
     },
     "execution_count": 11,
     "metadata": {},
     "output_type": "execute_result"
    }
   ],
   "source": [
    "df_all.columns"
   ]
  },
  {
   "cell_type": "code",
   "execution_count": 12,
   "id": "223f0173",
   "metadata": {},
   "outputs": [],
   "source": [
    "df_all = df_all[df_all[\"plays\"].notna()]"
   ]
  },
  {
   "cell_type": "code",
   "execution_count": 13,
   "id": "d5ac2f0d",
   "metadata": {},
   "outputs": [
    {
     "data": {
      "text/plain": [
       "plays\n",
       "right-handed    179\n",
       "left-handed      20\n",
       "Name: count, dtype: int64"
      ]
     },
     "execution_count": 13,
     "metadata": {},
     "output_type": "execute_result"
    }
   ],
   "source": [
    "plays_distribution = df_all[\"plays\"].value_counts()\n",
    "plays_distribution"
   ]
  },
  {
   "cell_type": "code",
   "execution_count": 14,
   "id": "faabff3f",
   "metadata": {},
   "outputs": [
    {
     "data": {
      "image/png": "[encoded data removed]",
      "text/plain": [
       "<Figure size 640x480 with 1 Axes>"
      ]
     },
     "metadata": {},
     "output_type": "display_data"
    }
   ],
   "source": [
    "plays_distribution.plot(kind=\"pie\", autopct=\"%1.1f%%\", title=\"Distribution of Left vs. Right-Handed Players\")\n",
    "plt.ylabel(\"\")\n",
    "plt.show()"
   ]
  },
  {
   "cell_type": "markdown",
   "id": "f1d686d5",
   "metadata": {},
   "source": [
    "### Result: Distribution of Left-Handed vs. Right-Handed Players\n",
    "\n",
    "Answer (Based on 1000 players):\n",
    "\n",
    "- Right-handed players:89.9%\n",
    "- Left-handed players: 10.1%\n"
   ]
  }
 ],
 "metadata": {
  "kernelspec": {
   "display_name": ".venv",
   "language": "python",
   "name": "python3"
  },
  "language_info": {
   "codemirror_mode": {
    "name": "ipython",
    "version": 3
   },
   "file_extension": ".py",
   "mimetype": "text/x-python",
   "name": "python",
   "nbconvert_exporter": "python",
   "pygments_lexer": "ipython3",
   "version": "3.13.5"
  }
 },
 "nbformat": 4,
 "nbformat_minor": 5
}
