{
 "cells": [
  {
   "cell_type": "markdown",
   "id": "363f87f8",
   "metadata": {},
   "source": [
    "## Tennis Project\n",
    "### Question 15"
   ]
  },
  {
   "cell_type": "code",
   "execution_count": 1,
   "id": "04bad366",
   "metadata": {},
   "outputs": [],
   "source": [
    "import pandas as pd\n",
    "from pathlib import Path"
   ]
  },
  {
   "cell_type": "code",
   "execution_count": 2,
   "id": "c6c49fc9",
   "metadata": {},
   "outputs": [],
   "source": [
    "root_path = Path(\"../data\")"
   ]
  },
  {
   "cell_type": "code",
   "execution_count": 22,
   "id": "e451dd9b",
   "metadata": {},
   "outputs": [
    {
     "name": "stdout",
     "output_type": "stream",
     "text": [
      "Found 442812 parquet files.\n"
     ]
    }
   ],
   "source": [
    "parquet_files = list(root_path.rglob(\"*.parquet\"))\n",
    "print(f\"Found {len(parquet_files)} parquet files.\")\n",
    "sample_file = parquet_files[:31]"
   ]
  },
  {
   "cell_type": "code",
   "execution_count": 23,
   "id": "61895405",
   "metadata": {},
   "outputs": [],
   "source": [
    "parquet_files = list(root_path.rglob(\"*.parquet\"))\n",
    "sample_files = parquet_files[:31]"
   ]
  },
  {
   "cell_type": "code",
   "execution_count": 25,
   "id": "5eb913e5",
   "metadata": {},
   "outputs": [],
   "source": [
    "dfs = []\n",
    "for file in sample_files:\n",
    "    df = pd.read_parquet(file)\n",
    "    dfs.append(df)"
   ]
  },
  {
   "cell_type": "code",
   "execution_count": 26,
   "id": "34cf4183",
   "metadata": {},
   "outputs": [
    {
     "data": {
      "text/html": [
       "<div>\n",
       "<style scoped>\n",
       "    .dataframe tbody tr th:only-of-type {\n",
       "        vertical-align: middle;\n",
       "    }\n",
       "\n",
       "    .dataframe tbody tr th {\n",
       "        vertical-align: top;\n",
       "    }\n",
       "\n",
       "    .dataframe thead th {\n",
       "        text-align: right;\n",
       "    }\n",
       "</style>\n",
       "<table border=\"1\" class=\"dataframe\">\n",
       "  <thead>\n",
       "    <tr style=\"text-align: right;\">\n",
       "      <th></th>\n",
       "      <th>match_id</th>\n",
       "      <th>name</th>\n",
       "      <th>slug</th>\n",
       "      <th>gender</th>\n",
       "      <th>user_count</th>\n",
       "      <th>residence</th>\n",
       "      <th>birthplace</th>\n",
       "      <th>height</th>\n",
       "      <th>weight</th>\n",
       "      <th>plays</th>\n",
       "      <th>turned_pro</th>\n",
       "      <th>current_prize</th>\n",
       "      <th>total_prize</th>\n",
       "      <th>player_id</th>\n",
       "      <th>current_rank</th>\n",
       "      <th>name_code</th>\n",
       "      <th>country</th>\n",
       "      <th>full_name</th>\n",
       "    </tr>\n",
       "  </thead>\n",
       "  <tbody>\n",
       "    <tr>\n",
       "      <th>0</th>\n",
       "      <td>12156295</td>\n",
       "      <td>Rybakina E.</td>\n",
       "      <td>rybakina-elena</td>\n",
       "      <td>F</td>\n",
       "      <td>22673</td>\n",
       "      <td>NaN</td>\n",
       "      <td>Moscow, Russia</td>\n",
       "      <td>1.84</td>\n",
       "      <td>NaN</td>\n",
       "      <td>right-handed</td>\n",
       "      <td>2016</td>\n",
       "      <td>1226279</td>\n",
       "      <td>11104942</td>\n",
       "      <td>186312</td>\n",
       "      <td>4</td>\n",
       "      <td>RYB</td>\n",
       "      <td>Kazakhstan</td>\n",
       "      <td>Rybakina, Elena</td>\n",
       "    </tr>\n",
       "    <tr>\n",
       "      <th>1</th>\n",
       "      <td>12157171</td>\n",
       "      <td>Sinner J.</td>\n",
       "      <td>sinner-jannik</td>\n",
       "      <td>M</td>\n",
       "      <td>92881</td>\n",
       "      <td>Monte Carlo, Monaco</td>\n",
       "      <td>San Candido, Italy</td>\n",
       "      <td>1.88</td>\n",
       "      <td>68.0</td>\n",
       "      <td>right-handed</td>\n",
       "      <td>2018</td>\n",
       "      <td>3301073</td>\n",
       "      <td>17518144</td>\n",
       "      <td>206570</td>\n",
       "      <td>2</td>\n",
       "      <td>SIN</td>\n",
       "      <td>Italy</td>\n",
       "      <td>Sinner, Jannik</td>\n",
       "    </tr>\n",
       "    <tr>\n",
       "      <th>2</th>\n",
       "      <td>12173700</td>\n",
       "      <td>Martínez P.</td>\n",
       "      <td>martinez-pedro</td>\n",
       "      <td>M</td>\n",
       "      <td>3165</td>\n",
       "      <td>Valencia, Spain</td>\n",
       "      <td>Alzira, Spain</td>\n",
       "      <td>1.85</td>\n",
       "      <td>76.0</td>\n",
       "      <td>right-handed</td>\n",
       "      <td>2016</td>\n",
       "      <td>94362</td>\n",
       "      <td>2787963</td>\n",
       "      <td>77223</td>\n",
       "      <td>77</td>\n",
       "      <td>MAR</td>\n",
       "      <td>Spain</td>\n",
       "      <td>Martinez, Pedro</td>\n",
       "    </tr>\n",
       "    <tr>\n",
       "      <th>3</th>\n",
       "      <td>12173714</td>\n",
       "      <td>Martínez P.</td>\n",
       "      <td>martinez-pedro</td>\n",
       "      <td>M</td>\n",
       "      <td>3050</td>\n",
       "      <td>Valencia, Spain</td>\n",
       "      <td>Alzira, Spain</td>\n",
       "      <td>1.85</td>\n",
       "      <td>76.0</td>\n",
       "      <td>right-handed</td>\n",
       "      <td>2016</td>\n",
       "      <td>94362</td>\n",
       "      <td>2787963</td>\n",
       "      <td>77223</td>\n",
       "      <td>77</td>\n",
       "      <td>MAR</td>\n",
       "      <td>Spain</td>\n",
       "      <td>Martinez, Pedro</td>\n",
       "    </tr>\n",
       "    <tr>\n",
       "      <th>4</th>\n",
       "      <td>12173950</td>\n",
       "      <td>Nardi L.</td>\n",
       "      <td>nardi-luca</td>\n",
       "      <td>M</td>\n",
       "      <td>7432</td>\n",
       "      <td>NaN</td>\n",
       "      <td>Pesaro</td>\n",
       "      <td>1.85</td>\n",
       "      <td>NaN</td>\n",
       "      <td>right-handed</td>\n",
       "      <td>NaN</td>\n",
       "      <td>123573</td>\n",
       "      <td>687717</td>\n",
       "      <td>289233</td>\n",
       "      <td>75</td>\n",
       "      <td>NAR</td>\n",
       "      <td>Italy</td>\n",
       "      <td>Nardi, Luca</td>\n",
       "    </tr>\n",
       "  </tbody>\n",
       "</table>\n",
       "</div>"
      ],
      "text/plain": [
       "   match_id         name            slug gender  user_count  \\\n",
       "0  12156295  Rybakina E.  rybakina-elena      F       22673   \n",
       "1  12157171    Sinner J.   sinner-jannik      M       92881   \n",
       "2  12173700  Martínez P.  martinez-pedro      M        3165   \n",
       "3  12173714  Martínez P.  martinez-pedro      M        3050   \n",
       "4  12173950     Nardi L.      nardi-luca      M        7432   \n",
       "\n",
       "             residence          birthplace  height  weight         plays  \\\n",
       "0                  NaN      Moscow, Russia    1.84     NaN  right-handed   \n",
       "1  Monte Carlo, Monaco  San Candido, Italy    1.88    68.0  right-handed   \n",
       "2      Valencia, Spain       Alzira, Spain    1.85    76.0  right-handed   \n",
       "3      Valencia, Spain       Alzira, Spain    1.85    76.0  right-handed   \n",
       "4                  NaN              Pesaro    1.85     NaN  right-handed   \n",
       "\n",
       "  turned_pro  current_prize  total_prize  player_id  current_rank name_code  \\\n",
       "0       2016        1226279     11104942     186312             4       RYB   \n",
       "1       2018        3301073     17518144     206570             2       SIN   \n",
       "2       2016          94362      2787963      77223            77       MAR   \n",
       "3       2016          94362      2787963      77223            77       MAR   \n",
       "4        NaN         123573       687717     289233            75       NAR   \n",
       "\n",
       "      country        full_name  \n",
       "0  Kazakhstan  Rybakina, Elena  \n",
       "1       Italy   Sinner, Jannik  \n",
       "2       Spain  Martinez, Pedro  \n",
       "3       Spain  Martinez, Pedro  \n",
       "4       Italy      Nardi, Luca  "
      ]
     },
     "execution_count": 26,
     "metadata": {},
     "output_type": "execute_result"
    }
   ],
   "source": [
    "all_df = pd.concat(dfs, ignore_index=True)\n",
    "all_df.head()"
   ]
  },
  {
   "cell_type": "code",
   "execution_count": 27,
   "id": "61b6d814",
   "metadata": {},
   "outputs": [
    {
     "name": "stdout",
     "output_type": "stream",
     "text": [
      "Number of unique tennis players: 28\n"
     ]
    }
   ],
   "source": [
    "unique_players = all_df['name'].nunique()\n",
    "print(f\"Number of unique tennis players: {unique_players}\")"
   ]
  },
  {
   "cell_type": "code",
   "execution_count": 30,
   "id": "70963051",
   "metadata": {},
   "outputs": [
    {
     "name": "stdout",
     "output_type": "stream",
     "text": [
      "Number of unique tennis players: 28\n"
     ]
    },
    {
     "data": {
      "text/html": [
       "<div>\n",
       "<style scoped>\n",
       "    .dataframe tbody tr th:only-of-type {\n",
       "        vertical-align: middle;\n",
       "    }\n",
       "\n",
       "    .dataframe tbody tr th {\n",
       "        vertical-align: top;\n",
       "    }\n",
       "\n",
       "    .dataframe thead th {\n",
       "        text-align: right;\n",
       "    }\n",
       "</style>\n",
       "<table border=\"1\" class=\"dataframe\">\n",
       "  <thead>\n",
       "    <tr style=\"text-align: right;\">\n",
       "      <th></th>\n",
       "      <th>player_id</th>\n",
       "      <th>full_name</th>\n",
       "    </tr>\n",
       "  </thead>\n",
       "  <tbody>\n",
       "    <tr>\n",
       "      <th>0</th>\n",
       "      <td>186312</td>\n",
       "      <td>Rybakina, Elena</td>\n",
       "    </tr>\n",
       "    <tr>\n",
       "      <th>1</th>\n",
       "      <td>206570</td>\n",
       "      <td>Sinner, Jannik</td>\n",
       "    </tr>\n",
       "    <tr>\n",
       "      <th>2</th>\n",
       "      <td>77223</td>\n",
       "      <td>Martinez, Pedro</td>\n",
       "    </tr>\n",
       "    <tr>\n",
       "      <th>4</th>\n",
       "      <td>289233</td>\n",
       "      <td>Nardi, Luca</td>\n",
       "    </tr>\n",
       "    <tr>\n",
       "      <th>5</th>\n",
       "      <td>44553</td>\n",
       "      <td>Herbert, Pierre Hugues</td>\n",
       "    </tr>\n",
       "    <tr>\n",
       "      <th>7</th>\n",
       "      <td>289146</td>\n",
       "      <td>Mpetshi Perricard, Giovanni</td>\n",
       "    </tr>\n",
       "    <tr>\n",
       "      <th>8</th>\n",
       "      <td>36595</td>\n",
       "      <td>Kudla, Denis</td>\n",
       "    </tr>\n",
       "    <tr>\n",
       "      <th>9</th>\n",
       "      <td>241039</td>\n",
       "      <td>Soto, Matias</td>\n",
       "    </tr>\n",
       "    <tr>\n",
       "      <th>10</th>\n",
       "      <td>158748</td>\n",
       "      <td>Meligeni Alves, Felipe</td>\n",
       "    </tr>\n",
       "    <tr>\n",
       "      <th>11</th>\n",
       "      <td>326949</td>\n",
       "      <td>Vallejo Daniel</td>\n",
       "    </tr>\n",
       "  </tbody>\n",
       "</table>\n",
       "</div>"
      ],
      "text/plain": [
       "    player_id                    full_name\n",
       "0      186312              Rybakina, Elena\n",
       "1      206570               Sinner, Jannik\n",
       "2       77223              Martinez, Pedro\n",
       "4      289233                  Nardi, Luca\n",
       "5       44553       Herbert, Pierre Hugues\n",
       "7      289146  Mpetshi Perricard, Giovanni\n",
       "8       36595                 Kudla, Denis\n",
       "9      241039                 Soto, Matias\n",
       "10     158748       Meligeni Alves, Felipe\n",
       "11     326949               Vallejo Daniel"
      ]
     },
     "execution_count": 30,
     "metadata": {},
     "output_type": "execute_result"
    }
   ],
   "source": [
    "unique_players = all_df.drop_duplicates(subset=\"player_id\")\n",
    "print(\"Number of unique tennis players:\", len(unique_players))\n",
    "unique_players[[\"player_id\", \"full_name\"]].head(10)"
   ]
  },
  {
   "cell_type": "markdown",
   "id": "401a687c",
   "metadata": {},
   "source": [
    "### Result:There are 28 unique players in this dataset."
   ]
  }
 ],
 "metadata": {
  "kernelspec": {
   "display_name": ".venv",
   "language": "python",
   "name": "python3"
  },
  "language_info": {
   "codemirror_mode": {
    "name": "ipython",
    "version": 3
   },
   "file_extension": ".py",
   "mimetype": "text/x-python",
   "name": "python",
   "nbconvert_exporter": "python",
   "pygments_lexer": "ipython3",
   "version": "3.13.5"
  }
 },
 "nbformat": 4,
 "nbformat_minor": 5
}
