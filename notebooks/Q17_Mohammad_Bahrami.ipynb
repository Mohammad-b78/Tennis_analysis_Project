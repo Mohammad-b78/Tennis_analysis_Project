{
 "cells": [
  {
   "cell_type": "markdown",
   "id": "acecf832",
   "metadata": {},
   "source": [
    "## Tennis Project\n",
    "### Question 17"
   ]
  },
  {
   "cell_type": "code",
   "execution_count": 55,
   "id": "87497dd3",
   "metadata": {},
   "outputs": [],
   "source": [
    "import pandas as pd\n",
    "from pathlib import Path\n"
   ]
  },
  {
   "cell_type": "code",
   "execution_count": 56,
   "id": "c29e4988",
   "metadata": {},
   "outputs": [],
   "source": [
    "root_path = Path(\"../data\")"
   ]
  },
  {
   "cell_type": "code",
   "execution_count": 57,
   "id": "6976fe01",
   "metadata": {},
   "outputs": [
    {
     "name": "stdout",
     "output_type": "stream",
     "text": [
      "Loaded 30 statistics files with total rows: 1832\n"
     ]
    }
   ],
   "source": [
    "stat_files = list(root_path.rglob(\"statistics*.parquet\"))[:30]\n",
    "\n",
    "\n",
    "df_list = []\n",
    "for file in stat_files:\n",
    "    df_list.append(pd.read_parquet(file))\n",
    "\n",
    "df_stats = pd.concat(df_list, ignore_index=True)\n",
    "print(f\"Loaded {len(stat_files)} statistics files with total rows: {len(df_stats)}\")"
   ]
  },
  {
   "cell_type": "code",
   "execution_count": 58,
   "id": "b1ae5343",
   "metadata": {},
   "outputs": [
    {
     "name": "stdout",
     "output_type": "stream",
     "text": [
      "Index(['match_id', 'period', 'statistic_category_name', 'statistic_name',\n",
      "       'home_stat', 'away_stat', 'compare_code', 'statistic_type',\n",
      "       'value_type', 'home_value', 'away_value', 'home_total', 'away_total'],\n",
      "      dtype='object')\n"
     ]
    }
   ],
   "source": [
    "print(df_stats.columns)"
   ]
  },
  {
   "cell_type": "code",
   "execution_count": 66,
   "id": "e071e726",
   "metadata": {},
   "outputs": [
    {
     "name": "stdout",
     "output_type": "stream",
     "text": [
      "No direct 'Break' statistic found. Here are all unique statistic names:\n",
      "['aces' 'double_faults' 'first_serve' 'second_serve' 'first_serve_points'\n",
      " 'second_serve_points' 'service_games_played' 'break_points_saved' 'total'\n",
      " 'service_points_won' 'receiver_points_won' 'max_points_in_a_row'\n",
      " 'total_won' 'service_games_won' 'max_games_in_a_row'\n",
      " 'first_serve_return_points' 'second_serve_return_points'\n",
      " 'return_games_played' 'break_points_converted' 'tiebreaks']\n",
      "Loaded 30 statistics files with total rows: 1832\n",
      "No direct 'Break' statistic found. Here are all unique statistic_name values:\n",
      "['aces' 'double_faults' 'first_serve' 'second_serve' 'first_serve_points'\n",
      " 'second_serve_points' 'service_games_played' 'break_points_saved' 'total'\n",
      " 'service_points_won' 'receiver_points_won' 'max_points_in_a_row'\n",
      " 'total_won' 'service_games_won' 'max_games_in_a_row'\n",
      " 'first_serve_return_points' 'second_serve_return_points'\n",
      " 'return_games_played' 'break_points_converted' 'tiebreaks']\n"
     ]
    }
   ],
   "source": [
    "\n",
    "\n",
    "df_stats.columns = [col.strip() for col in df_stats.columns]\n",
    "\n",
    "\n",
    "\n",
    "possible_break_names = ['Breaks', 'Break Points', 'Break Points Won', 'Break of Serve']\n",
    "\n",
    "break_df = df_stats[df_stats['statistic_name'].isin(possible_break_names)]\n",
    "\n",
    "\n",
    "if break_df.empty:\n",
    "    print(\"No direct 'Break' statistic found. Here are all unique statistic names:\")\n",
    "    print(df_stats['statistic_name'].unique())\n",
    "else:\n",
    "  \n",
    "    break_df['total_breaks'] = break_df['home_stat'] + break_df['away_stat']\n",
    "\n",
    "  \n",
    "    avg_breaks = break_df['total_breaks'].mean()\n",
    "\n",
    "    print(f\"Average number of break of serve per match: {avg_breaks:.2f}\")\n",
    "\n",
    "\n",
    "from pathlib import Path\n",
    "import pandas as pd\n",
    "\n",
    "root_path = Path(\"../data\")\n",
    "\n",
    "\n",
    "stat_files = list(root_path.rglob(\"statistics*.parquet\"))[:30]\n",
    "\n",
    "df_list = []\n",
    "for file in stat_files:\n",
    "    df_list.append(pd.read_parquet(file))\n",
    "\n",
    "df_stats = pd.concat(df_list, ignore_index=True)\n",
    "print(f\"Loaded {len(stat_files)} statistics files with total rows: {len(df_stats)}\")\n",
    "\n",
    "\n",
    "possible_break_names = ['Breaks', 'Break Points', 'Break Points Won', 'Break of Serve']\n",
    "\n",
    "break_df = df_stats[df_stats['statistic_name'].isin(possible_break_names)]\n",
    "\n",
    "if break_df.empty:\n",
    "    print(\"No direct 'Break' statistic found. Here are all unique statistic_name values:\")\n",
    "    print(df_stats['statistic_name'].unique())\n",
    "else:\n",
    "   \n",
    "    break_df['total_breaks'] = break_df['home_stat'] + break_df['away_stat']\n",
    "\n",
    "   \n",
    "    avg_breaks = break_df['total_breaks'].mean()\n",
    "\n",
    "    print(f\"Average number of break of serve per match: {avg_breaks:.2f}\")\n"
   ]
  },
  {
   "cell_type": "code",
   "execution_count": 67,
   "id": "4d4b2143",
   "metadata": {},
   "outputs": [],
   "source": [
    "break_df = df_stats[df_stats['statistic_name'] == 'break_points_converted']"
   ]
  },
  {
   "cell_type": "code",
   "execution_count": 68,
   "id": "250e3471",
   "metadata": {},
   "outputs": [
    {
     "name": "stderr",
     "output_type": "stream",
     "text": [
      "C:\\Users\\mbahr\\AppData\\Local\\Temp\\ipykernel_9240\\3779129473.py:1: SettingWithCopyWarning: \n",
      "A value is trying to be set on a copy of a slice from a DataFrame.\n",
      "Try using .loc[row_indexer,col_indexer] = value instead\n",
      "\n",
      "See the caveats in the documentation: https://pandas.pydata.org/pandas-docs/stable/user_guide/indexing.html#returning-a-view-versus-a-copy\n",
      "  break_df['total_breaks'] = break_df['home_stat'] + break_df['away_stat']\n"
     ]
    }
   ],
   "source": [
    "break_df['total_breaks'] = break_df['home_stat'] + break_df['away_stat']"
   ]
  },
  {
   "cell_type": "code",
   "execution_count": 70,
   "id": "51cb7faa",
   "metadata": {},
   "outputs": [
    {
     "name": "stderr",
     "output_type": "stream",
     "text": [
      "C:\\Users\\mbahr\\AppData\\Local\\Temp\\ipykernel_9240\\2481188871.py:1: SettingWithCopyWarning: \n",
      "A value is trying to be set on a copy of a slice from a DataFrame.\n",
      "Try using .loc[row_indexer,col_indexer] = value instead\n",
      "\n",
      "See the caveats in the documentation: https://pandas.pydata.org/pandas-docs/stable/user_guide/indexing.html#returning-a-view-versus-a-copy\n",
      "  break_df['home_stat'] = pd.to_numeric(break_df['home_stat'], errors='coerce')\n",
      "C:\\Users\\mbahr\\AppData\\Local\\Temp\\ipykernel_9240\\2481188871.py:2: SettingWithCopyWarning: \n",
      "A value is trying to be set on a copy of a slice from a DataFrame.\n",
      "Try using .loc[row_indexer,col_indexer] = value instead\n",
      "\n",
      "See the caveats in the documentation: https://pandas.pydata.org/pandas-docs/stable/user_guide/indexing.html#returning-a-view-versus-a-copy\n",
      "  break_df['away_stat'] = pd.to_numeric(break_df['away_stat'], errors='coerce')\n"
     ]
    }
   ],
   "source": [
    "break_df['home_stat'] = pd.to_numeric(break_df['home_stat'], errors='coerce')\n",
    "break_df['away_stat'] = pd.to_numeric(break_df['away_stat'], errors='coerce')"
   ]
  },
  {
   "cell_type": "code",
   "execution_count": 71,
   "id": "a06a3b9a",
   "metadata": {},
   "outputs": [],
   "source": [
    "break_df = break_df.dropna(subset=['home_stat', 'away_stat'])"
   ]
  },
  {
   "cell_type": "code",
   "execution_count": 72,
   "id": "bb3cd2d4",
   "metadata": {},
   "outputs": [
    {
     "name": "stdout",
     "output_type": "stream",
     "text": [
      " Average number of break of serve per match: 3.73\n"
     ]
    }
   ],
   "source": [
    "break_df['total_breaks'] = break_df['home_stat'] + break_df['away_stat']\n",
    "avg_breaks = break_df['total_breaks'].mean()\n",
    "print(f\" Average number of break of serve per match: {avg_breaks:.2f}\")"
   ]
  },
  {
   "cell_type": "code",
   "execution_count": 73,
   "id": "0accd18a",
   "metadata": {},
   "outputs": [
    {
     "data": {
      "image/png": "[encoded data removed]",
      "text/plain": [
       "<Figure size 800x500 with 1 Axes>"
      ]
     },
     "metadata": {},
     "output_type": "display_data"
    }
   ],
   "source": [
    "import matplotlib.pyplot as plt\n",
    "\n",
    "\n",
    "plt.figure(figsize=(8,5))\n",
    "plt.hist(break_df['total_breaks'], bins=15, color='skyblue', edgecolor='black')\n",
    "plt.title('Distribution of Total Breaks of Serve per Match')\n",
    "plt.xlabel('Total Breaks of Serve')\n",
    "plt.ylabel('Number of Matches')\n",
    "plt.grid(axis='y', alpha=0.75)\n",
    "plt.show()"
   ]
  },
  {
   "cell_type": "markdown",
   "id": "d60e6c1f",
   "metadata": {},
   "source": [
    "### Result:Summary of Break of Serve Analysis\n",
    "- The average number of break of serve per match is approximately 3.73.\n",
    "- The distribution shows that most matches have between 2 to 5 breaks of serve."
   ]
  }
 ],
 "metadata": {
  "kernelspec": {
   "display_name": ".venv",
   "language": "python",
   "name": "python3"
  },
  "language_info": {
   "codemirror_mode": {
    "name": "ipython",
    "version": 3
   },
   "file_extension": ".py",
   "mimetype": "text/x-python",
   "name": "python",
   "nbconvert_exporter": "python",
   "pygments_lexer": "ipython3",
   "version": "3.13.5"
  }
 },
 "nbformat": 4,
 "nbformat_minor": 5
}
