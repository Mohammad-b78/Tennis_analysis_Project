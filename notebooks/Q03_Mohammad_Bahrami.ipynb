{
 "cells": [
  {
   "cell_type": "markdown",
   "id": "188b5e9c",
   "metadata": {},
   "source": [
    "## Tennis Project\n",
    "### Question 3"
   ]
  },
  {
   "cell_type": "code",
   "execution_count": 7,
   "id": "69c8f3e6",
   "metadata": {},
   "outputs": [],
   "source": [
    "import pandas as pd\n",
    "from pathlib import Path"
   ]
  },
  {
   "cell_type": "code",
   "execution_count": 8,
   "id": "ae318beb",
   "metadata": {},
   "outputs": [],
   "source": [
    "root_path = Path(\"../data\")"
   ]
  },
  {
   "cell_type": "code",
   "execution_count": 11,
   "id": "cae74bf4",
   "metadata": {},
   "outputs": [
    {
     "name": "stdout",
     "output_type": "stream",
     "text": [
      "Found 35053 event files\n"
     ]
    },
    {
     "data": {
      "text/plain": [
       "[WindowsPath('../data/20240331/data/raw/raw_match_parquet/event_12156295.parquet'),\n",
       " WindowsPath('../data/20240331/data/raw/raw_match_parquet/event_12157171.parquet'),\n",
       " WindowsPath('../data/20240331/data/raw/raw_match_parquet/event_12173700.parquet'),\n",
       " WindowsPath('../data/20240331/data/raw/raw_match_parquet/event_12173714.parquet'),\n",
       " WindowsPath('../data/20240331/data/raw/raw_match_parquet/event_12173950.parquet')]"
      ]
     },
     "execution_count": 11,
     "metadata": {},
     "output_type": "execute_result"
    }
   ],
   "source": [
    "event_files = list(root_path.rglob(\"event_*.parquet\"))\n",
    "print(f\"Found {len(event_files)} event files\")\n",
    "event_files[:5]"
   ]
  },
  {
   "cell_type": "code",
   "execution_count": 16,
   "id": "e10fc3cd",
   "metadata": {},
   "outputs": [],
   "source": [
    "dfs = []\n",
    "\n",
    "for file in event_files[:100]:\n",
    "    df = pd.read_parquet(file)\n",
    "    dfs.append(df)\n",
    "\n",
    "df_all = pd.concat(dfs, ignore_index=True)"
   ]
  },
  {
   "cell_type": "code",
   "execution_count": 17,
   "id": "8f557233",
   "metadata": {},
   "outputs": [
    {
     "data": {
      "text/plain": [
       "Index(['match_id', 'first_to_serve', 'home_team_seed', 'away_team_seed',\n",
       "       'custom_id', 'winner_code', 'default_period_count', 'start_datetime',\n",
       "       'match_slug', 'final_result_only'],\n",
       "      dtype='object')"
      ]
     },
     "execution_count": 17,
     "metadata": {},
     "output_type": "execute_result"
    }
   ],
   "source": [
    "df_all.columns"
   ]
  },
  {
   "cell_type": "code",
   "execution_count": 18,
   "id": "c09a67c4",
   "metadata": {},
   "outputs": [
    {
     "data": {
      "text/plain": [
       "winner_code\n",
       "2    54\n",
       "1    44\n",
       "Name: count, dtype: int64"
      ]
     },
     "execution_count": 18,
     "metadata": {},
     "output_type": "execute_result"
    }
   ],
   "source": [
    "f_all = df_all[df_all[\"winner_code\"].notna()]\n",
    "\n",
    "winner_counts = df_all[\"winner_code\"].value_counts()\n",
    "winner_counts.head(10)"
   ]
  },
  {
   "cell_type": "code",
   "execution_count": 19,
   "id": "95862f6e",
   "metadata": {},
   "outputs": [
    {
     "name": "stdout",
     "output_type": "stream",
     "text": [
      "The player/team with the most wins is '2' with 54 wins.\n"
     ]
    }
   ],
   "source": [
    "top_winner = winner_counts.index[0]\n",
    "top_wins = winner_counts.iloc[0]\n",
    "\n",
    "print(f\"The player/team with the most wins is '{top_winner}' with {top_wins} wins.\")"
   ]
  },
  {
   "cell_type": "markdown",
   "id": "9415d47f",
   "metadata": {},
   "source": [
    "### Result:The player/team with the most wins is 2 with 54 wins.\n"
   ]
  }
 ],
 "metadata": {
  "kernelspec": {
   "display_name": ".venv",
   "language": "python",
   "name": "python3"
  },
  "language_info": {
   "codemirror_mode": {
    "name": "ipython",
    "version": 3
   },
   "file_extension": ".py",
   "mimetype": "text/x-python",
   "name": "python",
   "nbconvert_exporter": "python",
   "pygments_lexer": "ipython3",
   "version": "3.13.5"
  }
 },
 "nbformat": 4,
 "nbformat_minor": 5
}
